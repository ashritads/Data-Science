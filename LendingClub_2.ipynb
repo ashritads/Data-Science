{
 "cells": [
  {
   "cell_type": "code",
   "execution_count": 1,
   "metadata": {
    "collapsed": true
   },
   "outputs": [],
   "source": [
    "import sklearn\n",
    "import graphviz\n",
    "from sklearn.linear_model import LogisticRegression\n",
    "from sklearn.metrics import mean_squared_error, r2_score\n",
    "import sklearn.tree\n",
    "import numpy as np\n",
    "import urllib\n",
    "import csv\n",
    "import string\n",
    "import pandas as pd\n",
    "from sklearn.model_selection import train_test_split\n",
    "from matplotlib import pyplot as plt\n",
    "from sklearn.neighbors import KNeighborsRegressor\n",
    "from datetime import datetime\n",
    "from sklearn.feature_selection import RFE\n",
    "from sklearn.utils import shuffle\n"
   ]
  },
  {
   "cell_type": "markdown",
   "metadata": {},
   "source": [
    "DATA CLEANING for Lending Club data"
   ]
  },
  {
   "cell_type": "code",
   "execution_count": 3,
   "metadata": {},
   "outputs": [
    {
     "name": "stdout",
     "output_type": "stream",
     "text": [
      "(188181, 115)\n",
      "Dataset size after removing columns that have all NAs\n",
      "(188181, 98)\n"
     ]
    }
   ],
   "source": [
    "#read data\n",
    "LCdata = pd.read_csv(open(\"C:\\Users\\Ashrita\\Documents\\Machine Learning\\Project Files\\Individual Projects\\LendingClub2012to2013.csv\"), header=0, index_col=False, low_memory=False)\n",
    "#just checking data is loaded\n",
    "print(LCdata.shape)\n",
    "\n",
    "#removing \"_\" from Header names\n",
    "LCdata.columns=pd.Series(list(LCdata.columns.values)).str.replace('_', '')\n",
    "original_headers = list(LCdata.columns.values)\n",
    "\n",
    "#Remove columns that have all NAs\n",
    "LCdata=LCdata.dropna(axis=1, how='all', thresh=None, subset=None, inplace=False)\n",
    "print \"Dataset size after removing columns that have all NAs\"\n",
    "print(LCdata.shape)\n",
    "\n",
    "LCdata.intrate = pd.Series(LCdata.intrate).str.replace('%', '').astype(float)\n",
    "LCdata['emplength'].replace('n/a', np.nan, inplace=True)\n",
    "LCdata.emplength.fillna(value=0, inplace=True)\n",
    "LCdata['emplength'].replace(to_replace='[^0-9]+',value='',inplace=True,regex=True)\n",
    "LCdata['emplength']=LCdata['emplength'].astype(int)\n",
    "LCdata.revolutil = pd.Series(LCdata.revolutil).str.replace('%', '').astype(float)\n",
    "LCdata.earliestcrline = pd.to_datetime(LCdata.earliestcrline)\n",
    "dttoday = datetime.now().strftime('%Y-%m-%d')\n",
    "LCdata.earliestcrline = LCdata.earliestcrline.apply(lambda x: (\n",
    "        np.timedelta64((x - pd.Timestamp(dttoday)),'D').astype(int))/-365)\n",
    "\n",
    "LCdata['term'].replace(to_replace='[^0-9]+',value='',inplace=True,regex=True)\n",
    "LCdata['term']=LCdata['term'].astype(int)"
   ]
  },
  {
   "cell_type": "code",
   "execution_count": 4,
   "metadata": {},
   "outputs": [
    {
     "name": "stdout",
     "output_type": "stream",
     "text": [
      "238 green corp                          1\n",
      "town motors                             1\n",
      "Jumma Inc                               1\n",
      "Tiburcio Vasquez Health Center, Inc.    1\n",
      "Elmsford Union Free School District     1\n",
      "Name: emptitle, dtype: int64\n",
      "(188181, 92)\n"
     ]
    }
   ],
   "source": [
    "#Checking the values of Emptitle \n",
    "print LCdata.emptitle.value_counts().tail()\n",
    "#Dropping URL, Desc,Emptitle,id,member columns since they are inputs from customers and values are diverse and hence wouldnt contribute to the \n",
    "#Prediction analysis\n",
    "LCdata.drop(['url','desc','emptitle','id', 'memberid','applicationtype'], 1, inplace=True)\n",
    "print(LCdata.shape)"
   ]
  },
  {
   "cell_type": "markdown",
   "metadata": {},
   "source": [
    "Target Leakage"
   ]
  },
  {
   "cell_type": "code",
   "execution_count": 5,
   "metadata": {},
   "outputs": [
    {
     "name": "stdout",
     "output_type": "stream",
     "text": [
      "(188181, 73)\n"
     ]
    }
   ],
   "source": [
    "LCdata.drop(['collectionrecoveryfee', 'grade', 'intrate', 'issued', 'lastcreditpulld', 'lastpymntamnt', 'lastpymntd',\n",
    "            'nextpymntd', 'outprncp', 'outprncpinv', 'subgrade', 'totalpymnt','totalpymntinv','totalrecint', \n",
    "             'totalreclatefee', 'totalrecprncp', 'recoveries', 'verificationstatus','pymntplan'], 1, inplace = True)\n",
    "print(LCdata.shape)"
   ]
  },
  {
   "cell_type": "code",
   "execution_count": 6,
   "metadata": {
    "scrolled": true
   },
   "outputs": [
    {
     "name": "stdout",
     "output_type": "stream",
     "text": [
      "Index([u'mthssincelastrecord', u'mthssincelastmajorderog',\n",
      "       u'mthssincerecentbcdlq', u'mthssincerecentrevoldelinq'],\n",
      "      dtype='object')\n",
      "(188181, 68)\n"
     ]
    }
   ],
   "source": [
    "print LCdata.columns[LCdata.isnull().mean() > 0.7]\n",
    "#Deleting columns that have more than 70% Null values\n",
    "LCdata.drop(['mthssincelastrecord', 'mthssincelastmajorderog', 'mthssincerecentbcdlq','mthssincerecentrevoldelinq'\n",
    "             ,'mthssincelastdelinq'],1,inplace=True)\n",
    "#LCdata.dropna(axis=0,how='any',thresh=None,inplace=True)\n",
    "print(LCdata.shape)\n"
   ]
  },
  {
   "cell_type": "code",
   "execution_count": 7,
   "metadata": {
    "scrolled": false
   },
   "outputs": [
    {
     "name": "stdout",
     "output_type": "stream",
     "text": [
      "Converting Charged Off records to Default & Removing records that have Loan Status in Grace Period and Late status\n",
      "Fully Paid    143919\n",
      "Default        27564\n",
      "Name: loanstatus, dtype: int64\n"
     ]
    },
    {
     "data": {
      "image/png": "[encoded data removed]",
      "text/plain": [
       "<matplotlib.figure.Figure at 0xf6a7940>"
      ]
     },
     "metadata": {},
     "output_type": "display_data"
    }
   ],
   "source": [
    "%matplotlib inline\n",
    "\n",
    "LCdata.loanstatus.value_counts().plot(kind='bar')\n",
    "\n",
    "print \"Converting Charged Off records to Default & Removing records that have Loan Status in Grace Period and Late status\"\n",
    "LCdata.loc[LCdata['loanstatus']==\"Charged Off\", 'loanstatus'] = 'Default'\n",
    "data=LCdata[LCdata['loanstatus'].isin([\"Fully Paid\",\"Default\"])]\n",
    "print data.loanstatus.value_counts()\n"
   ]
  },
  {
   "cell_type": "markdown",
   "metadata": {},
   "source": [
    "IMPUTING THE NULL VALUES IN THE COLUMNS"
   ]
  },
  {
   "cell_type": "code",
   "execution_count": 8,
   "metadata": {},
   "outputs": [
    {
     "name": "stdout",
     "output_type": "stream",
     "text": [
      "['homeownership' 'loanstatus' 'purpose' 'title' 'zipcode' 'addrstate'\n",
      " 'initialliststatus']\n",
      "loanamnt\n",
      "fundedamnt\n",
      "fundedamntinv\n",
      "term\n",
      "installment\n",
      "emplength\n",
      "annualinc\n",
      "dti\n",
      "delinq2yrs\n",
      "earliestcrline\n",
      "ficorangelow\n",
      "ficorangehigh\n",
      "inqlast6mths\n",
      "openacc\n",
      "pubrec\n",
      "revolbal\n",
      "revolutil\n"
     ]
    },
    {
     "name": "stderr",
     "output_type": "stream",
     "text": [
      "C:\\Users\\Ashrita\\Anaconda3\\envs\\py27\\lib\\site-packages\\ipykernel_launcher.py:9: SettingWithCopyWarning: \n",
      "A value is trying to be set on a copy of a slice from a DataFrame.\n",
      "Try using .loc[row_indexer,col_indexer] = value instead\n",
      "\n",
      "See the caveats in the documentation: http://pandas.pydata.org/pandas-docs/stable/indexing.html#indexing-view-versus-copy\n",
      "  if __name__ == '__main__':\n",
      "C:\\Users\\Ashrita\\Anaconda3\\envs\\py27\\lib\\site-packages\\ipykernel_launcher.py:11: SettingWithCopyWarning: \n",
      "A value is trying to be set on a copy of a slice from a DataFrame.\n",
      "Try using .loc[row_indexer,col_indexer] = value instead\n",
      "\n",
      "See the caveats in the documentation: http://pandas.pydata.org/pandas-docs/stable/indexing.html#indexing-view-versus-copy\n",
      "  # This is added back by InteractiveShellApp.init_path()\n"
     ]
    },
    {
     "name": "stdout",
     "output_type": "stream",
     "text": [
      "totalacc\n",
      "lastficorangehigh\n",
      "lastficorangelow\n",
      "collections12mthsexmed\n",
      "policycode\n",
      "accnowdelinq\n",
      "totcollamt\n",
      "totcurbal\n",
      "totalrevhilim\n",
      "accopenpast24mths\n",
      "avgcurbal\n",
      "bcopentobuy\n",
      "bcutil\n",
      "chargeoffwithin12mths\n",
      "delinqamnt\n",
      "mosinoldilacct\n",
      "mosinoldrevtlop\n",
      "mosinrcntrevtlop\n",
      "mosinrcnttl\n",
      "mortacc\n",
      "mthssincerecentbc\n",
      "mthssincerecentinq\n",
      "numacctsever120pd\n",
      "numactvbctl\n",
      "numactvrevtl\n",
      "numbcsats\n",
      "numbctl\n",
      "numiltl\n",
      "numoprevtl\n",
      "numrevaccts\n",
      "numrevtlbalgt0\n",
      "numsats\n",
      "numtl120dpd2m\n",
      "numtl30dpd\n",
      "numtl90gdpd24m\n",
      "numtloppast12m\n",
      "pcttlnvrdlq\n",
      "percentbcgt75\n",
      "pubrecbankruptcies\n",
      "taxliens\n",
      "tothicredlim\n",
      "totalbalexmort\n",
      "totalbclimit\n",
      "totalilhighcreditlimit\n"
     ]
    }
   ],
   "source": [
    "from sklearn import preprocessing\n",
    "categorical=data.select_dtypes(include=['object'])\n",
    "numeric=data.select_dtypes(exclude=['object'])\n",
    "print(categorical.columns.values)\n",
    "\n",
    "for name in numeric:\n",
    "    print(name)\n",
    "    if pd.isnull(numeric[name]).sum()>0:\n",
    "        numeric[\"%s_mi\" % (name)]=pd.isnull(numeric[name])\n",
    "        median=numeric[name].median()\n",
    "        numeric[name]=numeric[name].apply(lambda x: median if pd.isnull(x) else x)"
   ]
  },
  {
   "cell_type": "code",
   "execution_count": 9,
   "metadata": {},
   "outputs": [
    {
     "name": "stdout",
     "output_type": "stream",
     "text": [
      "Encoding column by column data\n",
      "homeownership\n"
     ]
    },
    {
     "name": "stderr",
     "output_type": "stream",
     "text": [
      "C:\\Users\\Ashrita\\Anaconda3\\envs\\py27\\lib\\site-packages\\ipykernel_launcher.py:6: SettingWithCopyWarning: \n",
      "A value is trying to be set on a copy of a slice from a DataFrame.\n",
      "Try using .loc[row_indexer,col_indexer] = value instead\n",
      "\n",
      "See the caveats in the documentation: http://pandas.pydata.org/pandas-docs/stable/indexing.html#indexing-view-versus-copy\n",
      "  \n"
     ]
    },
    {
     "name": "stdout",
     "output_type": "stream",
     "text": [
      "loanstatus\n",
      "purpose\n",
      "title\n"
     ]
    },
    {
     "name": "stderr",
     "output_type": "stream",
     "text": [
      "C:\\Users\\Ashrita\\Anaconda3\\envs\\py27\\lib\\site-packages\\numpy\\lib\\arraysetops.py:216: FutureWarning: numpy not_equal will not check object identity in the future. The comparison did not return the same result as suggested by the identity (`is`)) and will change.\n",
      "  flag = np.concatenate(([True], aux[1:] != aux[:-1]))\n"
     ]
    },
    {
     "name": "stdout",
     "output_type": "stream",
     "text": [
      "zipcode\n",
      "addrstate\n",
      "initialliststatus\n"
     ]
    }
   ],
   "source": [
    "print \"Encoding column by column data\"\n",
    "\n",
    "le = preprocessing.LabelEncoder()\n",
    "for name in categorical:\n",
    "    print(name)\n",
    "    categorical[name] = le.fit_transform(categorical[name])"
   ]
  },
  {
   "cell_type": "markdown",
   "metadata": {},
   "source": [
    "Replacing Data columns with column values from Numeric or Categorical respectively"
   ]
  },
  {
   "cell_type": "code",
   "execution_count": 10,
   "metadata": {
    "scrolled": true
   },
   "outputs": [
    {
     "name": "stderr",
     "output_type": "stream",
     "text": [
      "C:\\Users\\Ashrita\\Anaconda3\\envs\\py27\\lib\\site-packages\\pandas\\core\\indexing.py:517: SettingWithCopyWarning: \n",
      "A value is trying to be set on a copy of a slice from a DataFrame.\n",
      "Try using .loc[row_indexer,col_indexer] = value instead\n",
      "\n",
      "See the caveats in the documentation: http://pandas.pydata.org/pandas-docs/stable/indexing.html#indexing-view-versus-copy\n",
      "  self.obj[item] = s\n"
     ]
    }
   ],
   "source": [
    "for name in categorical:\n",
    "    data.loc[:,name]=categorical[name]\n",
    "    #print(data[name].head(5))\n",
    "    \n",
    "    \n",
    "for name in numeric:\n",
    "    if name in data.columns.values:\n",
    "        data.loc[:,name]=numeric[name]\n",
    "    #print(data[name].head(5))\n"
   ]
  },
  {
   "cell_type": "markdown",
   "metadata": {},
   "source": [
    "PERFORM FEATURE SELECTION ON THE DATASET USING RFE METHOD"
   ]
  },
  {
   "cell_type": "code",
   "execution_count": 11,
   "metadata": {},
   "outputs": [
    {
     "name": "stdout",
     "output_type": "stream",
     "text": [
      "Num Features: 33\n",
      "Selected Features: [False False False  True  True False  True False  True False False False\n",
      "  True  True  True  True  True  True  True  True False False  True False\n",
      "  True  True False  True False False False False  True False False  True\n",
      " False False False False  True  True False  True  True  True  True  True\n",
      " False  True  True  True  True  True  True False False False  True  True\n",
      " False False False False False False False]\n",
      "Feature Ranking: [13  7 15  1  1 23  1 16  1 14  9  8  1  1  1  1  1  1  1  1 26  2  1 34  1\n",
      "  1 30  1 28 10 18 20  1 12 17  1 35 11  6  4  1  1 25  1  1  1  1  1  3  1\n",
      "  1  1  1  1  1 33 31 21  1  1  5 24 32 19 22 29 27]\n",
      "Retrieving the subset of data for only the IMP FEATURES\n"
     ]
    }
   ],
   "source": [
    "#Defining X & Y\n",
    "Y=data.loc[:,'loanstatus']\n",
    "X=data.loc[:,data.columns!='loanstatus']\n",
    "model=LogisticRegression()\n",
    "rfe=RFE(model,None,step=1)\n",
    "fit=rfe.fit(X,Y)\n",
    "print(\"Num Features: %d\") % fit.n_features_\n",
    "print(\"Selected Features: %s\") % fit.support_\n",
    "print(\"Feature Ranking: %s\") % fit.ranking_\n",
    "\n",
    "print \"Retrieving the subset of data for only the IMP FEATURES\"\n",
    "data_subset = X.iloc[:,fit.get_support(indices=False)]"
   ]
  },
  {
   "cell_type": "code",
   "execution_count": 12,
   "metadata": {},
   "outputs": [
    {
     "name": "stdout",
     "output_type": "stream",
     "text": [
      "totaldata size:\n",
      "(171483, 34)\n",
      "(128612, 33)\n",
      "(42871, 33)\n"
     ]
    }
   ],
   "source": [
    "#Split the data into 75:25\n",
    "\n",
    "totaldata = pd.concat([data_subset,data.loanstatus],axis=1)\n",
    "print(\"totaldata size:\")\n",
    "print(totaldata.shape)\n",
    "\n",
    "X = totaldata.loc[:,totaldata.columns!='loanstatus'] \n",
    "Y = totaldata.loc[:,'loanstatus']\n",
    "\n",
    "X_train, X_holdout, Y_train, Y_holdout=train_test_split(X,Y,test_size=0.25,random_state=42)\n",
    "print X_train.shape\n",
    "print X_holdout.shape"
   ]
  },
  {
   "cell_type": "code",
   "execution_count": 13,
   "metadata": {},
   "outputs": [
    {
     "name": "stdout",
     "output_type": "stream",
     "text": [
      "Fitting 10 folds for each of 1 candidates, totalling 10 fits\n"
     ]
    },
    {
     "name": "stderr",
     "output_type": "stream",
     "text": [
      "[Parallel(n_jobs=-1)]: Done  10 out of  10 | elapsed:   11.2s finished\n"
     ]
    },
    {
     "name": "stdout",
     "output_type": "stream",
     "text": [
      "The optimized_nbg.best_score is :0.898\n"
     ]
    }
   ],
   "source": [
    "############### Naive bayes Gaussian Classifier #####################\n",
    "from sklearn.naive_bayes import GaussianNB\n",
    "nbg = GaussianNB()\n",
    "\n",
    "# set up cv\n",
    "from sklearn import model_selection\n",
    "cv = model_selection.KFold(10)\n",
    "\n",
    "# pipeline\n",
    "from sklearn.pipeline import Pipeline\n",
    "pipeline = Pipeline(steps=[('standardize', preprocessing.StandardScaler()),('model', nbg) ])\n",
    "\n",
    "# Parameters for tuning the model\n",
    "from sklearn.model_selection import GridSearchCV\n",
    "optimized_nbg = GridSearchCV(estimator=pipeline, cv=cv, param_grid=dict(), scoring = 'roc_auc', verbose = 1, n_jobs = -1)\n",
    "\n",
    "#Fitting the model with Grid Search\n",
    "optimized_nbg.fit(X_train, Y_train)\n",
    "\n",
    "#Get the best estimator from the grid Search\n",
    "print \"The optimized_nbg.best_score is :{0:.3f}\".format(optimized_nbg.best_score_)"
   ]
  },
  {
   "cell_type": "code",
   "execution_count": 14,
   "metadata": {},
   "outputs": [
    {
     "name": "stdout",
     "output_type": "stream",
     "text": [
      "Logistic Regression\n",
      "Fitting 10 folds for each of 1 candidates, totalling 10 fits\n"
     ]
    },
    {
     "name": "stderr",
     "output_type": "stream",
     "text": [
      "[Parallel(n_jobs=-1)]: Done  10 out of  10 | elapsed:   20.3s finished\n"
     ]
    },
    {
     "name": "stdout",
     "output_type": "stream",
     "text": [
      "The optimized_lr.best_score is : 0.935\n"
     ]
    }
   ],
   "source": [
    "print \"Logistic Regression\"\n",
    "\n",
    "lr=LogisticRegression()\n",
    "# set up cv\n",
    "from sklearn import model_selection\n",
    "cv = model_selection.KFold(10)\n",
    "\n",
    "# pipeline\n",
    "from sklearn.pipeline import Pipeline\n",
    "pipeline = Pipeline(steps=[('standardize', preprocessing.StandardScaler()),('model', lr) ])\n",
    "\n",
    "# Parameters for tuning the model\n",
    "from sklearn.model_selection import GridSearchCV\n",
    "optimized_lr = GridSearchCV(estimator=pipeline, cv=cv, param_grid=dict(), scoring = 'roc_auc', verbose = 1, n_jobs = -1)\n",
    "\n",
    "#Fitting the model with Grid Search\n",
    "optimized_lr.fit(X_train, Y_train)\n",
    "\n",
    "#Get the best estimator from the grid Search\n",
    "print \"The optimized_lr.best_score is : {0:.3f}\".format(optimized_lr.best_score_)\n"
   ]
  },
  {
   "cell_type": "code",
   "execution_count": 15,
   "metadata": {},
   "outputs": [
    {
     "name": "stdout",
     "output_type": "stream",
     "text": [
      "Decision tree\n",
      "Fitting 10 folds for each of 1 candidates, totalling 10 fits\n"
     ]
    },
    {
     "name": "stderr",
     "output_type": "stream",
     "text": [
      "[Parallel(n_jobs=-1)]: Done  10 out of  10 | elapsed:   19.8s finished\n"
     ]
    },
    {
     "name": "stdout",
     "output_type": "stream",
     "text": [
      "The optimized_dt.best_score is : 0.744\n"
     ]
    }
   ],
   "source": [
    "from sklearn import tree\n",
    "import graphviz\n",
    "\n",
    "print \"Decision tree\"\n",
    "dt = tree.DecisionTreeClassifier()\n",
    "# set up cv\n",
    "cv = model_selection.KFold(10)\n",
    "\n",
    "# pipeline\n",
    "pipeline = Pipeline(steps=[('standardize', preprocessing.StandardScaler()),('model', dt) ])\n",
    "\n",
    "# Parameters for tuning the model\n",
    "optimized_dt = GridSearchCV(estimator=pipeline, cv=cv, param_grid=dict(), scoring = 'roc_auc', verbose = 1, n_jobs = -1)\n",
    "\n",
    "#Fitting the model with Grid Search\n",
    "optimized_dt.fit(X_train, Y_train)\n",
    "\n",
    "#Get the best estimator from the grid Search\n",
    "print \"The optimized_dt.best_score is : {0:.3f}\".format(optimized_dt.best_score_)\n"
   ]
  },
  {
   "cell_type": "code",
   "execution_count": 16,
   "metadata": {},
   "outputs": [
    {
     "name": "stdout",
     "output_type": "stream",
     "text": [
      "K Nearest neighbor Classfication\n",
      "{'n_neighbors': array([1, 2])}\n",
      "Fitting 10 folds for each of 2 candidates, totalling 20 fits\n"
     ]
    },
    {
     "name": "stderr",
     "output_type": "stream",
     "text": [
      "[Parallel(n_jobs=-1)]: Done  20 out of  20 | elapsed:  4.2min finished\n"
     ]
    },
    {
     "name": "stdout",
     "output_type": "stream",
     "text": [
      "The optimized_kn.best_score is : 0.822\n"
     ]
    }
   ],
   "source": [
    "from sklearn import neighbors\n",
    "print \"K Nearest neighbor Classfication\"\n",
    "\n",
    "k = np.arange(2)+1\n",
    "parameters = {'n_neighbors': k}\n",
    "print parameters\n",
    "kn=neighbors.KNeighborsClassifier()\n",
    "# set up cv\n",
    "cv = model_selection.KFold(10)\n",
    "\n",
    "# pipeline\n",
    "#pipeline = Pipeline(steps=[('standardize', preprocessing.StandardScaler()),('model', kn) ])\n",
    "\n",
    "# Parameters for tuning the model\n",
    "optimized_kn = GridSearchCV(estimator=kn, cv=cv, param_grid=dict(parameters), scoring = 'roc_auc', verbose = 1,\n",
    "                            n_jobs = -1)\n",
    "\n",
    "#Fitting the model with Grid Search\n",
    "optimized_kn.fit(X_train, Y_train)\n",
    "\n",
    "#Get the best estimator from the grid Search\n",
    "print \"The optimized_kn.best_score is : {0:.3f}\".format(optimized_kn.best_score_)"
   ]
  },
  {
   "cell_type": "markdown",
   "metadata": {},
   "source": [
    "TESTING ALL CLASSIFIERS ON HOLD OUT DATA"
   ]
  },
  {
   "cell_type": "code",
   "execution_count": 17,
   "metadata": {},
   "outputs": [
    {
     "name": "stdout",
     "output_type": "stream",
     "text": [
      "Evaluating Logistic Regression Classifier on the Hold Out Data\n",
      "[[ 3939  3033]\n",
      " [ 1563 34336]]\n",
      "LR Precision:0.919\n",
      "LR Recall:0.956\n",
      "LR F1 Score: 0.937\n",
      "Evaluating Gaussian Bayes Classifier on the Hold Out Data\n",
      "[[ 4787  2185]\n",
      " [ 3201 32698]]\n",
      "Gaussian NB Precision:0.937\n",
      "Gaussian NB Recall:0.911\n",
      "Gaussian NB F1 Score: 0.924\n",
      "Evaluating Decision Tree on the Hold Out Data\n",
      "[[ 4787  2185]\n",
      " [ 3201 32698]]\n",
      "Decision Tree Precision:0.937\n",
      "Decision Tree Recall:0.911\n",
      "Decision Tree F1 Score: 0.924\n",
      "Evaluating KNN on the Hold Out Data\n",
      "[[ 4787  2185]\n",
      " [ 3201 32698]]\n",
      "Decision Tree Precision:0.937\n",
      "Decision Tree Recall:0.911\n",
      "Decision Tree F1 Score: 0.924\n"
     ]
    }
   ],
   "source": [
    "from sklearn.metrics import confusion_matrix, precision_recall_fscore_support\n",
    "\n",
    "print \"Evaluating Logistic Regression Classifier on the Hold Out Data\"\n",
    "\n",
    "y_pred_lr=optimized_lr.predict(X_holdout)\n",
    "confusion_matrix_lr = confusion_matrix(Y_holdout, y_pred_lr)\n",
    "print confusion_matrix_lr\n",
    "PRF_lr = precision_recall_fscore_support(Y_holdout, y_pred_lr, average='binary')\n",
    "print \"LR Precision:{0:.3f}\".format(PRF_lr[0])\n",
    "print \"LR Recall:{0:.3f}\".format(PRF_lr[1])\n",
    "print \"LR F1 Score: {0:.3f}\".format(PRF_lr[2])\n",
    "\n",
    "print \"Evaluating Gaussian Bayes Classifier on the Hold Out Data\"\n",
    "\n",
    "y_pred_nb=optimized_nbg.predict(X_holdout)\n",
    "confusion_matrix_nb = confusion_matrix(Y_holdout, y_pred_nb)\n",
    "print confusion_matrix_nb\n",
    "PRF_nb = precision_recall_fscore_support(Y_holdout, y_pred_nb, average='binary')\n",
    "print \"Gaussian NB Precision:{0:.3f}\".format(PRF_nb[0])\n",
    "print \"Gaussian NB Recall:{0:.3f}\".format(PRF_nb[1])\n",
    "print \"Gaussian NB F1 Score: {0:.3f}\".format(PRF_nb[2])\n",
    "\n",
    "\n",
    "print \"Evaluating Decision Tree on the Hold Out Data\"\n",
    "\n",
    "y_pred_dt=optimized_dt.predict(X_holdout)\n",
    "confusion_matrix_dt = confusion_matrix(Y_holdout, y_pred_nb)\n",
    "print confusion_matrix_dt\n",
    "PRF_dt = precision_recall_fscore_support(Y_holdout, y_pred_nb, average='binary')\n",
    "print \"Decision Tree Precision:{0:.3f}\".format(PRF_dt[0])\n",
    "print \"Decision Tree Recall:{0:.3f}\".format(PRF_dt[1])\n",
    "print \"Decision Tree F1 Score: {0:.3f}\".format(PRF_dt[2])\n",
    "\n",
    "\n",
    "print \"Evaluating KNN on the Hold Out Data\"\n",
    "\n",
    "y_pred_kn=optimized_kn.predict(X_holdout)\n",
    "confusion_matrix_kn = confusion_matrix(Y_holdout, y_pred_nb)\n",
    "print confusion_matrix_kn\n",
    "PRF_kn = precision_recall_fscore_support(Y_holdout, y_pred_nb, average='binary')\n",
    "print \"Decision Tree Precision:{0:.3f}\".format(PRF_kn[0])\n",
    "print \"Decision Tree Recall:{0:.3f}\".format(PRF_kn[1])\n",
    "print \"Decision Tree F1 Score: {0:.3f}\".format(PRF_kn[2])"
   ]
  },
  {
   "cell_type": "code",
   "execution_count": 18,
   "metadata": {},
   "outputs": [
    {
     "data": {
      "text/plain": [
       "<matplotlib.text.Text at 0x14b15400>"
      ]
     },
     "execution_count": 18,
     "metadata": {},
     "output_type": "execute_result"
    },
    {
     "data": {
      "image/png": "[encoded data removed]",
      "text/plain": [
       "<matplotlib.figure.Figure at 0x14de2978>"
      ]
     },
     "metadata": {},
     "output_type": "display_data"
    }
   ],
   "source": [
    "%matplotlib inline\n",
    "\n",
    "y_pred_lr_prb=optimized_lr.predict_proba(X_holdout)[:, 1]\n",
    "plt.hist(y_pred_lr_prb, bins=2)\n",
    "plt.xlim(0,1)\n",
    "plt.title('Histogram of predicted probabilities for Logistic regression')\n",
    "plt.xlabel('Predicted probability of Loan Default')\n",
    "plt.ylabel('Frequency')"
   ]
  },
  {
   "cell_type": "code",
   "execution_count": 19,
   "metadata": {},
   "outputs": [
    {
     "data": {
      "text/plain": [
       "<matplotlib.text.Text at 0x1447d828>"
      ]
     },
     "execution_count": 19,
     "metadata": {},
     "output_type": "execute_result"
    },
    {
     "data": {
      "image/png": "[encoded data removed]",
      "text/plain": [
       "<matplotlib.figure.Figure at 0x149c9358>"
      ]
     },
     "metadata": {},
     "output_type": "display_data"
    }
   ],
   "source": [
    "y_pred_nb_prb=optimized_nbg.predict_proba(X_holdout)[:, 1]\n",
    "plt.hist(y_pred_nb_prb, bins=2)\n",
    "plt.xlim(0,1)\n",
    "plt.title('Histogram of predicted probabilities for Gaussian Naives Bayes')\n",
    "plt.xlabel('Predicted probability of Loan Default')\n",
    "plt.ylabel('Frequency')"
   ]
  },
  {
   "cell_type": "code",
   "execution_count": 20,
   "metadata": {},
   "outputs": [
    {
     "data": {
      "text/plain": [
       "<matplotlib.text.Text at 0x1447d5f8>"
      ]
     },
     "execution_count": 20,
     "metadata": {},
     "output_type": "execute_result"
    },
    {
     "data": {
      "image/png": "[encoded data removed]",
      "text/plain": [
       "<matplotlib.figure.Figure at 0xf8c7588>"
      ]
     },
     "metadata": {},
     "output_type": "display_data"
    }
   ],
   "source": [
    "y_pred_dt_prb=optimized_dt.predict_proba(X_holdout)[:, 1]\n",
    "plt.hist(y_pred_dt_prb, bins=2)\n",
    "plt.xlim(0,1)\n",
    "plt.title('Histogram of predicted probabilities for Decision Trees')\n",
    "plt.xlabel('Predicted probability of Loan Default')\n",
    "plt.ylabel('Frequency')"
   ]
  },
  {
   "cell_type": "code",
   "execution_count": 21,
   "metadata": {},
   "outputs": [
    {
     "data": {
      "text/plain": [
       "<matplotlib.text.Text at 0x43733860>"
      ]
     },
     "execution_count": 21,
     "metadata": {},
     "output_type": "execute_result"
    },
    {
     "data": {
      "image/png": "[encoded data removed]",
      "text/plain": [
       "<matplotlib.figure.Figure at 0x10502198>"
      ]
     },
     "metadata": {},
     "output_type": "display_data"
    }
   ],
   "source": [
    "y_pred_kn_prb=optimized_kn.predict_proba(X_holdout)[:, 1]\n",
    "plt.hist(y_pred_kn_prb, bins=2)\n",
    "plt.xlim(0,1)\n",
    "plt.title('Histogram of predicted probabilities for KNN')\n",
    "plt.xlabel('Predicted probability of Loan Default')\n",
    "plt.ylabel('Frequency')"
   ]
  }
 ],
 "metadata": {
  "kernelspec": {
   "display_name": "Python 2",
   "language": "python",
   "name": "python2"
  },
  "language_info": {
   "codemirror_mode": {
    "name": "ipython",
    "version": 2
   },
   "file_extension": ".py",
   "mimetype": "text/x-python",
   "name": "python",
   "nbconvert_exporter": "python",
   "pygments_lexer": "ipython2",
   "version": "2.7.13"
  }
 },
 "nbformat": 4,
 "nbformat_minor": 2
}
